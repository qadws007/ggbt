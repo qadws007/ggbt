{
 "cells": [
  {
   "cell_type": "code",
   "execution_count": 2,
   "outputs": [
    {
     "data": {
      "text/plain": "datetime.datetime(2021, 8, 28, 21, 15, 47, 911474)"
     },
     "execution_count": 2,
     "metadata": {},
     "output_type": "execute_result"
    }
   ],
   "source": [
    "import time\n",
    "import datetime\n",
    "now=datetime.datetime.now()\n",
    "now"
   ],
   "metadata": {
    "collapsed": false,
    "pycharm": {
     "name": "#%%\n"
    }
   }
  },
  {
   "cell_type": "code",
   "execution_count": 3,
   "outputs": [
    {
     "data": {
      "text/plain": "datetime.time(11, 45, 50, 66942)"
     },
     "execution_count": 3,
     "metadata": {},
     "output_type": "execute_result"
    }
   ],
   "source": [
    "now=datetime.datetime.now()\n",
    "\n",
    "now.time()\n",
    "\n",
    "n1=datetime.timedelta(hours=9,minutes=30)\n",
    "\n",
    "a=now-n1\n",
    "a.time()"
   ],
   "metadata": {
    "collapsed": false,
    "pycharm": {
     "name": "#%%\n"
    }
   }
  },
  {
   "cell_type": "code",
   "execution_count": 47,
   "outputs": [
    {
     "name": "stdout",
     "output_type": "stream",
     "text": [
      "未开盘\n",
      "240\n"
     ]
    }
   ],
   "source": [
    "now=datetime.datetime.now()\n",
    "t1=datetime.timedelta(hours=now.hour,minutes=now.minute)-datetime.timedelta(hours=9,minutes=30)\n",
    "if t1.days<0:\n",
    "    rt=240\n",
    "    print(\"未开盘\")\n",
    "elif t1<datetime.timedelta(hours=2):\n",
    "    rt=divmod(t1.seconds,60)\n",
    "elif datetime.timedelta(hours=3.5)>t1>datetime.timedelta(hours=2):\n",
    "    re=120\n",
    "elif datetime.timedelta(hours=3.5)<t1<datetime.timedelta(hours=5.5):\n",
    "   rt=divmod(t1.seconds-1.5*3600,60)\n",
    "elif t1>datetime.timedelta(hours=5.5):\n",
    "     re=240\n",
    "print(rt)\n",
    "return rt"
   ],
   "metadata": {
    "collapsed": false,
    "pycharm": {
     "name": "#%%\n"
    }
   }
  }
 ],
 "metadata": {
  "kernelspec": {
   "display_name": "Python 3",
   "language": "python",
   "name": "python3"
  },
  "language_info": {
   "codemirror_mode": {
    "name": "ipython",
    "version": 2
   },
   "file_extension": ".py",
   "mimetype": "text/x-python",
   "name": "python",
   "nbconvert_exporter": "python",
   "pygments_lexer": "ipython2",
   "version": "2.7.6"
  }
 },
 "nbformat": 4,
 "nbformat_minor": 0
}