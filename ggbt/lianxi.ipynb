{
 "cells": [
  {
   "cell_type": "code",
   "execution_count": 8,
   "outputs": [
    {
     "name": "stdout",
     "output_type": "stream",
     "text": [
      "2333\n"
     ]
    }
   ],
   "source": [
    "from pytdx.hq import TdxHq_API\n",
    "from pytdx.params import TDXParams\n",
    "api = TdxHq_API()\n",
    "if api.connect('123.125.108.14', 7709):\n",
    "    # ... same codes...\n",
    "    print(2333)\n",
    "    #api.disconnect()\n",
    "# data =api.to_df(api.get_security_bars(7,0, '000001', 0, 240))\n",
    "# data"
   ],
   "metadata": {
    "collapsed": false,
    "pycharm": {
     "name": "#%%\n"
    }
   }
  },
  {
   "cell_type": "code",
   "execution_count": 9,
   "outputs": [],
   "source": [
    "# data=api.get_transaction_data(TDXParams.MARKET_SZ, '000001', 0, 30)\n",
    "# data"
   ],
   "metadata": {
    "collapsed": false,
    "pycharm": {
     "name": "#%%\n"
    }
   }
  },
  {
   "cell_type": "code",
   "execution_count": 10,
   "outputs": [
    {
     "data": {
      "text/plain": "      open  close   high    low        vol      amount  year  month  day  \\\n0    3.204  3.204  3.205  3.203  6168700.0  19766016.0  2021      7   29   \n1    3.203  3.204  3.205  3.203  1624400.0   5204224.0  2021      7   29   \n2    3.204  3.206  3.206  3.203  1819900.0   5832192.0  2021      7   29   \n3    3.205  3.206  3.206  3.205  4395500.0  14090240.0  2021      7   29   \n4    3.206  3.205  3.207  3.205  9872400.0  31646976.0  2021      7   29   \n..     ...    ...    ...    ...        ...         ...   ...    ...  ...   \n235  3.170  3.170  3.171  3.170  1089600.0   3454720.0  2021      7   30   \n236  3.170  3.171  3.171  3.170  1837500.0   5825920.0  2021      7   30   \n237  3.172  3.175  3.175  3.172  1355700.0   4301440.0  2021      7   30   \n238  3.174  3.175  3.175  3.174   822800.0   2612096.0  2021      7   30   \n239  3.175  3.175  3.175  3.174   158600.0    503552.0  2021      7   30   \n\n     hour  minute          datetime  \n0      14      39  2021-07-29 14:39  \n1      14      40  2021-07-29 14:40  \n2      14      41  2021-07-29 14:41  \n3      14      42  2021-07-29 14:42  \n4      14      43  2021-07-29 14:43  \n..    ...     ...               ...  \n235    14      34  2021-07-30 14:34  \n236    14      35  2021-07-30 14:35  \n237    14      36  2021-07-30 14:36  \n238    14      37  2021-07-30 14:37  \n239    14      38  2021-07-30 14:38  \n\n[240 rows x 12 columns]",
      "text/html": "<div>\n<style scoped>\n    .dataframe tbody tr th:only-of-type {\n        vertical-align: middle;\n    }\n\n    .dataframe tbody tr th {\n        vertical-align: top;\n    }\n\n    .dataframe thead th {\n        text-align: right;\n    }\n</style>\n<table border=\"1\" class=\"dataframe\">\n  <thead>\n    <tr style=\"text-align: right;\">\n      <th></th>\n      <th>open</th>\n      <th>close</th>\n      <th>high</th>\n      <th>low</th>\n      <th>vol</th>\n      <th>amount</th>\n      <th>year</th>\n      <th>month</th>\n      <th>day</th>\n      <th>hour</th>\n      <th>minute</th>\n      <th>datetime</th>\n    </tr>\n  </thead>\n  <tbody>\n    <tr>\n      <th>0</th>\n      <td>3.204</td>\n      <td>3.204</td>\n      <td>3.205</td>\n      <td>3.203</td>\n      <td>6168700.0</td>\n      <td>19766016.0</td>\n      <td>2021</td>\n      <td>7</td>\n      <td>29</td>\n      <td>14</td>\n      <td>39</td>\n      <td>2021-07-29 14:39</td>\n    </tr>\n    <tr>\n      <th>1</th>\n      <td>3.203</td>\n      <td>3.204</td>\n      <td>3.205</td>\n      <td>3.203</td>\n      <td>1624400.0</td>\n      <td>5204224.0</td>\n      <td>2021</td>\n      <td>7</td>\n      <td>29</td>\n      <td>14</td>\n      <td>40</td>\n      <td>2021-07-29 14:40</td>\n    </tr>\n    <tr>\n      <th>2</th>\n      <td>3.204</td>\n      <td>3.206</td>\n      <td>3.206</td>\n      <td>3.203</td>\n      <td>1819900.0</td>\n      <td>5832192.0</td>\n      <td>2021</td>\n      <td>7</td>\n      <td>29</td>\n      <td>14</td>\n      <td>41</td>\n      <td>2021-07-29 14:41</td>\n    </tr>\n    <tr>\n      <th>3</th>\n      <td>3.205</td>\n      <td>3.206</td>\n      <td>3.206</td>\n      <td>3.205</td>\n      <td>4395500.0</td>\n      <td>14090240.0</td>\n      <td>2021</td>\n      <td>7</td>\n      <td>29</td>\n      <td>14</td>\n      <td>42</td>\n      <td>2021-07-29 14:42</td>\n    </tr>\n    <tr>\n      <th>4</th>\n      <td>3.206</td>\n      <td>3.205</td>\n      <td>3.207</td>\n      <td>3.205</td>\n      <td>9872400.0</td>\n      <td>31646976.0</td>\n      <td>2021</td>\n      <td>7</td>\n      <td>29</td>\n      <td>14</td>\n      <td>43</td>\n      <td>2021-07-29 14:43</td>\n    </tr>\n    <tr>\n      <th>...</th>\n      <td>...</td>\n      <td>...</td>\n      <td>...</td>\n      <td>...</td>\n      <td>...</td>\n      <td>...</td>\n      <td>...</td>\n      <td>...</td>\n      <td>...</td>\n      <td>...</td>\n      <td>...</td>\n      <td>...</td>\n    </tr>\n    <tr>\n      <th>235</th>\n      <td>3.170</td>\n      <td>3.170</td>\n      <td>3.171</td>\n      <td>3.170</td>\n      <td>1089600.0</td>\n      <td>3454720.0</td>\n      <td>2021</td>\n      <td>7</td>\n      <td>30</td>\n      <td>14</td>\n      <td>34</td>\n      <td>2021-07-30 14:34</td>\n    </tr>\n    <tr>\n      <th>236</th>\n      <td>3.170</td>\n      <td>3.171</td>\n      <td>3.171</td>\n      <td>3.170</td>\n      <td>1837500.0</td>\n      <td>5825920.0</td>\n      <td>2021</td>\n      <td>7</td>\n      <td>30</td>\n      <td>14</td>\n      <td>35</td>\n      <td>2021-07-30 14:35</td>\n    </tr>\n    <tr>\n      <th>237</th>\n      <td>3.172</td>\n      <td>3.175</td>\n      <td>3.175</td>\n      <td>3.172</td>\n      <td>1355700.0</td>\n      <td>4301440.0</td>\n      <td>2021</td>\n      <td>7</td>\n      <td>30</td>\n      <td>14</td>\n      <td>36</td>\n      <td>2021-07-30 14:36</td>\n    </tr>\n    <tr>\n      <th>238</th>\n      <td>3.174</td>\n      <td>3.175</td>\n      <td>3.175</td>\n      <td>3.174</td>\n      <td>822800.0</td>\n      <td>2612096.0</td>\n      <td>2021</td>\n      <td>7</td>\n      <td>30</td>\n      <td>14</td>\n      <td>37</td>\n      <td>2021-07-30 14:37</td>\n    </tr>\n    <tr>\n      <th>239</th>\n      <td>3.175</td>\n      <td>3.175</td>\n      <td>3.175</td>\n      <td>3.174</td>\n      <td>158600.0</td>\n      <td>503552.0</td>\n      <td>2021</td>\n      <td>7</td>\n      <td>30</td>\n      <td>14</td>\n      <td>38</td>\n      <td>2021-07-30 14:38</td>\n    </tr>\n  </tbody>\n</table>\n<p>240 rows × 12 columns</p>\n</div>"
     },
     "execution_count": 10,
     "metadata": {},
     "output_type": "execute_result"
    }
   ],
   "source": [
    "data=api.to_df(api.get_security_bars(7,1, '510050', 0, 240))\n",
    "data"
   ],
   "metadata": {
    "collapsed": false,
    "pycharm": {
     "name": "#%%\n"
    }
   }
  }
 ],
 "metadata": {
  "kernelspec": {
   "display_name": "Python 3",
   "language": "python",
   "name": "python3"
  },
  "language_info": {
   "codemirror_mode": {
    "name": "ipython",
    "version": 2
   },
   "file_extension": ".py",
   "mimetype": "text/x-python",
   "name": "python",
   "nbconvert_exporter": "python",
   "pygments_lexer": "ipython2",
   "version": "2.7.6"
  }
 },
 "nbformat": 4,
 "nbformat_minor": 0
}