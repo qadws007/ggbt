{
 "cells": [
  {
   "cell_type": "code",
   "execution_count": 10,
   "outputs": [],
   "source": [
    "import numpy as np\n",
    "import pandas as pd\n",
    "import os\n",
    "import datetime as dt\n",
    "import talib"
   ],
   "metadata": {
    "collapsed": false,
    "pycharm": {
     "name": "#%%\n"
    }
   }
  },
  {
   "cell_type": "code",
   "execution_count": 11,
   "outputs": [],
   "source": [
    "# 显示所有列\n",
    "#pd.set_option('display.max_columns', None)\n",
    "#pd.set_option('max_colwidth',200)  # 只显示50个\n",
    "#pd.set_option('display.max_rows', None)  # 行\n",
    "pd.options.display.max_rows = 20"
   ],
   "metadata": {
    "collapsed": false,
    "pycharm": {
     "name": "#%%\n"
    }
   }
  },
  {
   "cell_type": "code",
   "execution_count": 12,
   "outputs": [
    {
     "name": "stderr",
     "output_type": "stream",
     "text": [
      "<ipython-input-12-e9b44a3c2809>:12: ParserWarning: Falling back to the 'python' engine because the 'c' engine does not support skipfooter; you can avoid this warning by specifying engine='python'.\n",
      "  df = pd.read_csv(path_root + \"/datas/hs300m/\" + fname, dtype='str', encoding=\"gbk\", skiprows=[0, 1], skipfooter=1,\n"
     ]
    }
   ],
   "source": [
    "path_root = os.getcwd()\n",
    "os.getcwd()\n",
    "filename = os.listdir(path_root + \"/datas/hs300m\")\n",
    "maxstocknum = 2  # 股票池最大股票数目\n",
    "filename = filename[0:maxstocknum]\n",
    "# 设置测试时间\n",
    "back_year = 3\n",
    "end = dt.datetime.now()\n",
    "sta = dt.datetime.now() - dt.timedelta(days=back_year * 60)\n",
    "# 创建交易数据集\n",
    "fname='SH#600519.csv'\n",
    "df = pd.read_csv(path_root + \"/datas/hs300m/\" + fname, dtype='str', encoding=\"gbk\", skiprows=[0, 1], skipfooter=1,\n",
    "                 names=['datetimes', 'times', 'open', 'high', 'low', 'close', 'volume', 'amount'])\n",
    "df=df.tail(2000)\n",
    "df['datetime'] = df['datetimes'] + \" \" + df['times']\n",
    "df['datetime'] = pd.to_datetime(df['datetime'])\n",
    "df.index = df['datetime']\n",
    "df.drop(['datetime', 'datetimes', 'times'], axis=1, inplace=True)\n",
    "df[['open', 'high', 'low', 'close','volume','amount']] = df[['open', 'high', 'low', 'close','volume','amount']].astype('float')\n"
   ],
   "metadata": {
    "collapsed": false,
    "pycharm": {
     "name": "#%%\n"
    }
   }
  },
  {
   "cell_type": "code",
   "execution_count": 13,
   "outputs": [],
   "source": [
    "df['macd'],df['macdsignal'],macdhist=talib.MACDEXT(df['close'],fastperiod=12,slowperiod=26,signalperiod=9)\n",
    "df['slowk'],df['slowd']=talib.STOCH(df['high'],df['low'],df['close'],fastk_period=9,slowk_period=3,slowd_period=3)\n",
    "#df['slowj'] = list(map(lambda x,y: 3*x-2*y, df['slowk'], df['slowd']))\n"
   ],
   "metadata": {
    "collapsed": false,
    "pycharm": {
     "name": "#%%\n"
    }
   }
  },
  {
   "cell_type": "code",
   "execution_count": 14,
   "outputs": [],
   "source": [
    "def cross_over(line1,line2):\n",
    "    up=line1>line2\n",
    "    down=line1<line2\n",
    "    up_position=up.shift(1)\n",
    "    down_position=down.shift(1)\n",
    "    cross_up=np.where(up & down_position,1,0)\n",
    "    cross_down=np.where(down & up_position,-1,0)\n",
    "    cross=cross_up+cross_down\n",
    "    return cross\n",
    "\n",
    "df['macd_cross']=cross_over(df['macd'],df['macdsignal'])\n",
    "\n",
    "\n",
    "df1=df.loc[df['macd_cross']!=0][['close','macd','macd_cross']]\n",
    "pnl=df1['close']-df1['close'].shift(-1)\n",
    "df1['pnl']=pnl"
   ],
   "metadata": {
    "collapsed": false,
    "pycharm": {
     "name": "#%%\n"
    }
   }
  },
  {
   "cell_type": "code",
   "execution_count": 15,
   "outputs": [
    {
     "data": {
      "text/plain": "               close      macd  macd_cross       pnl  macd_stand\nclose       1.000000  0.186091   -0.007876  0.153285    0.186091\nmacd        0.186091  1.000000   -0.471745  0.109108    1.000000\nmacd_cross -0.007876 -0.471745    1.000000 -0.035852   -0.471745\npnl         0.153285  0.109108   -0.035852  1.000000    0.109108\nmacd_stand  0.186091  1.000000   -0.471745  0.109108    1.000000",
      "text/html": "<div>\n<style scoped>\n    .dataframe tbody tr th:only-of-type {\n        vertical-align: middle;\n    }\n\n    .dataframe tbody tr th {\n        vertical-align: top;\n    }\n\n    .dataframe thead th {\n        text-align: right;\n    }\n</style>\n<table border=\"1\" class=\"dataframe\">\n  <thead>\n    <tr style=\"text-align: right;\">\n      <th></th>\n      <th>close</th>\n      <th>macd</th>\n      <th>macd_cross</th>\n      <th>pnl</th>\n      <th>macd_stand</th>\n    </tr>\n  </thead>\n  <tbody>\n    <tr>\n      <th>close</th>\n      <td>1.000000</td>\n      <td>0.186091</td>\n      <td>-0.007876</td>\n      <td>0.153285</td>\n      <td>0.186091</td>\n    </tr>\n    <tr>\n      <th>macd</th>\n      <td>0.186091</td>\n      <td>1.000000</td>\n      <td>-0.471745</td>\n      <td>0.109108</td>\n      <td>1.000000</td>\n    </tr>\n    <tr>\n      <th>macd_cross</th>\n      <td>-0.007876</td>\n      <td>-0.471745</td>\n      <td>1.000000</td>\n      <td>-0.035852</td>\n      <td>-0.471745</td>\n    </tr>\n    <tr>\n      <th>pnl</th>\n      <td>0.153285</td>\n      <td>0.109108</td>\n      <td>-0.035852</td>\n      <td>1.000000</td>\n      <td>0.109108</td>\n    </tr>\n    <tr>\n      <th>macd_stand</th>\n      <td>0.186091</td>\n      <td>1.000000</td>\n      <td>-0.471745</td>\n      <td>0.109108</td>\n      <td>1.000000</td>\n    </tr>\n  </tbody>\n</table>\n</div>"
     },
     "execution_count": 15,
     "metadata": {},
     "output_type": "execute_result"
    }
   ],
   "source": [
    "#数据标准版\n",
    "def stand(factor):\n",
    "  \"\"\"自实现标准化\n",
    "  \"\"\"\n",
    "  mean = factor.mean()\n",
    "  std = factor.std()\n",
    "  return (factor - mean)/std\n",
    "\n",
    "df1['macd_stand']=stand(df1['macd'])\n",
    "df1.corr('pearson')\n"
   ],
   "metadata": {
    "collapsed": false,
    "pycharm": {
     "name": "#%%\n"
    }
   }
  },
  {
   "cell_type": "code",
   "execution_count": 16,
   "outputs": [
    {
     "data": {
      "text/plain": "<AxesSubplot:xlabel='macd_stand', ylabel='pnl'>"
     },
     "execution_count": 16,
     "metadata": {},
     "output_type": "execute_result"
    },
    {
     "data": {
      "text/plain": "<Figure size 432x288 with 1 Axes>",
      "image/png": "[encoded data removed]"
     },
     "metadata": {
      "needs_background": "light"
     },
     "output_type": "display_data"
    }
   ],
   "source": [
    "#macd金叉与收益的散点图\n",
    "df1.loc[df1['macd_cross']==1].plot.scatter(x='macd_stand',y='pnl')"
   ],
   "metadata": {
    "collapsed": false,
    "pycharm": {
     "name": "#%%\n"
    }
   }
  },
  {
   "cell_type": "code",
   "execution_count": 18,
   "outputs": [
    {
     "data": {
      "text/plain": "           close    volume    amount\nclose   1.000000  0.131355  0.154100\nvolume  0.131355  1.000000  0.999405\namount  0.154100  0.999405  1.000000",
      "text/html": "<div>\n<style scoped>\n    .dataframe tbody tr th:only-of-type {\n        vertical-align: middle;\n    }\n\n    .dataframe tbody tr th {\n        vertical-align: top;\n    }\n\n    .dataframe thead th {\n        text-align: right;\n    }\n</style>\n<table border=\"1\" class=\"dataframe\">\n  <thead>\n    <tr style=\"text-align: right;\">\n      <th></th>\n      <th>close</th>\n      <th>volume</th>\n      <th>amount</th>\n    </tr>\n  </thead>\n  <tbody>\n    <tr>\n      <th>close</th>\n      <td>1.000000</td>\n      <td>0.131355</td>\n      <td>0.154100</td>\n    </tr>\n    <tr>\n      <th>volume</th>\n      <td>0.131355</td>\n      <td>1.000000</td>\n      <td>0.999405</td>\n    </tr>\n    <tr>\n      <th>amount</th>\n      <td>0.154100</td>\n      <td>0.999405</td>\n      <td>1.000000</td>\n    </tr>\n  </tbody>\n</table>\n</div>"
     },
     "execution_count": 18,
     "metadata": {},
     "output_type": "execute_result"
    }
   ],
   "source": [
    "df2=pd.DataFrame()\n",
    "df2['close']=stand(df['close'])\n",
    "df2['volume']=stand(df['volume'])\n",
    "df2['amount']=stand(df['amount'])\n",
    "df2.corr('pearson')"
   ],
   "metadata": {
    "collapsed": false,
    "pycharm": {
     "name": "#%%\n"
    }
   }
  }
 ],
 "metadata": {
  "kernelspec": {
   "name": "python3",
   "language": "python",
   "display_name": "Python 3"
  },
  "language_info": {
   "codemirror_mode": {
    "name": "ipython",
    "version": 2
   },
   "file_extension": ".py",
   "mimetype": "text/x-python",
   "name": "python",
   "nbconvert_exporter": "python",
   "pygments_lexer": "ipython2",
   "version": "2.7.6"
  }
 },
 "nbformat": 4,
 "nbformat_minor": 0
}