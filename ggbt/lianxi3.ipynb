{
 "cells": [
  {
   "cell_type": "code",
   "execution_count": 39,
   "outputs": [
    {
     "data": {
      "text/plain": "              日期    时间      开盘      最高      最低      收盘   成交量    持仓量  \\\n0     2021/02/01  0935  5355.0  5366.4  5345.4  5346.4  5530  79622   \n1     2021/02/01  0940  5346.2  5386.0  5345.4  5385.6  4879  76947   \n2     2021/02/01  0945  5385.6  5387.8  5374.0  5379.4  2768  75620   \n3     2021/02/01  0950  5376.0  5378.6  5365.0  5374.8  2561  74435   \n4     2021/02/01  0955  5375.2  5382.0  5368.4  5369.2  1470  73649   \n...          ...   ...     ...     ...     ...     ...   ...    ...   \n5755  2021/07/30  1440  4777.2  4785.0  4777.2  4778.0  1170  91350   \n5756  2021/07/30  1445  4778.0  4781.4  4773.4  4779.2  1233  91744   \n5757  2021/07/30  1450  4779.2  4779.2  4771.8  4773.2  1314  92321   \n5758  2021/07/30  1455  4773.0  4775.0  4766.6  4773.2  2108  93503   \n5759  2021/07/30  1500  4773.8  4776.8  4773.2  4773.6  2581  94608   \n\n                datetime  \n0    2021-02-01 09:35:00  \n1    2021-02-01 09:40:00  \n2    2021-02-01 09:45:00  \n3    2021-02-01 09:50:00  \n4    2021-02-01 09:55:00  \n...                  ...  \n5755 2021-07-30 14:40:00  \n5756 2021-07-30 14:45:00  \n5757 2021-07-30 14:50:00  \n5758 2021-07-30 14:55:00  \n5759 2021-07-30 15:00:00  \n\n[5760 rows x 9 columns]",
      "text/html": "<div>\n<style scoped>\n    .dataframe tbody tr th:only-of-type {\n        vertical-align: middle;\n    }\n\n    .dataframe tbody tr th {\n        vertical-align: top;\n    }\n\n    .dataframe thead th {\n        text-align: right;\n    }\n</style>\n<table border=\"1\" class=\"dataframe\">\n  <thead>\n    <tr style=\"text-align: right;\">\n      <th></th>\n      <th>日期</th>\n      <th>时间</th>\n      <th>开盘</th>\n      <th>最高</th>\n      <th>最低</th>\n      <th>收盘</th>\n      <th>成交量</th>\n      <th>持仓量</th>\n      <th>datetime</th>\n    </tr>\n  </thead>\n  <tbody>\n    <tr>\n      <th>0</th>\n      <td>2021/02/01</td>\n      <td>0935</td>\n      <td>5355.0</td>\n      <td>5366.4</td>\n      <td>5345.4</td>\n      <td>5346.4</td>\n      <td>5530</td>\n      <td>79622</td>\n      <td>2021-02-01 09:35:00</td>\n    </tr>\n    <tr>\n      <th>1</th>\n      <td>2021/02/01</td>\n      <td>0940</td>\n      <td>5346.2</td>\n      <td>5386.0</td>\n      <td>5345.4</td>\n      <td>5385.6</td>\n      <td>4879</td>\n      <td>76947</td>\n      <td>2021-02-01 09:40:00</td>\n    </tr>\n    <tr>\n      <th>2</th>\n      <td>2021/02/01</td>\n      <td>0945</td>\n      <td>5385.6</td>\n      <td>5387.8</td>\n      <td>5374.0</td>\n      <td>5379.4</td>\n      <td>2768</td>\n      <td>75620</td>\n      <td>2021-02-01 09:45:00</td>\n    </tr>\n    <tr>\n      <th>3</th>\n      <td>2021/02/01</td>\n      <td>0950</td>\n      <td>5376.0</td>\n      <td>5378.6</td>\n      <td>5365.0</td>\n      <td>5374.8</td>\n      <td>2561</td>\n      <td>74435</td>\n      <td>2021-02-01 09:50:00</td>\n    </tr>\n    <tr>\n      <th>4</th>\n      <td>2021/02/01</td>\n      <td>0955</td>\n      <td>5375.2</td>\n      <td>5382.0</td>\n      <td>5368.4</td>\n      <td>5369.2</td>\n      <td>1470</td>\n      <td>73649</td>\n      <td>2021-02-01 09:55:00</td>\n    </tr>\n    <tr>\n      <th>...</th>\n      <td>...</td>\n      <td>...</td>\n      <td>...</td>\n      <td>...</td>\n      <td>...</td>\n      <td>...</td>\n      <td>...</td>\n      <td>...</td>\n      <td>...</td>\n    </tr>\n    <tr>\n      <th>5755</th>\n      <td>2021/07/30</td>\n      <td>1440</td>\n      <td>4777.2</td>\n      <td>4785.0</td>\n      <td>4777.2</td>\n      <td>4778.0</td>\n      <td>1170</td>\n      <td>91350</td>\n      <td>2021-07-30 14:40:00</td>\n    </tr>\n    <tr>\n      <th>5756</th>\n      <td>2021/07/30</td>\n      <td>1445</td>\n      <td>4778.0</td>\n      <td>4781.4</td>\n      <td>4773.4</td>\n      <td>4779.2</td>\n      <td>1233</td>\n      <td>91744</td>\n      <td>2021-07-30 14:45:00</td>\n    </tr>\n    <tr>\n      <th>5757</th>\n      <td>2021/07/30</td>\n      <td>1450</td>\n      <td>4779.2</td>\n      <td>4779.2</td>\n      <td>4771.8</td>\n      <td>4773.2</td>\n      <td>1314</td>\n      <td>92321</td>\n      <td>2021-07-30 14:50:00</td>\n    </tr>\n    <tr>\n      <th>5758</th>\n      <td>2021/07/30</td>\n      <td>1455</td>\n      <td>4773.0</td>\n      <td>4775.0</td>\n      <td>4766.6</td>\n      <td>4773.2</td>\n      <td>2108</td>\n      <td>93503</td>\n      <td>2021-07-30 14:55:00</td>\n    </tr>\n    <tr>\n      <th>5759</th>\n      <td>2021/07/30</td>\n      <td>1500</td>\n      <td>4773.8</td>\n      <td>4776.8</td>\n      <td>4773.2</td>\n      <td>4773.6</td>\n      <td>2581</td>\n      <td>94608</td>\n      <td>2021-07-30 15:00:00</td>\n    </tr>\n  </tbody>\n</table>\n<p>5760 rows × 9 columns</p>\n</div>"
     },
     "execution_count": 39,
     "metadata": {},
     "output_type": "execute_result"
    }
   ],
   "source": [
    "import pandas as pd\n",
    "import os\n",
    "\n",
    "path_root = os.getcwd()\n",
    "os.getcwd()\n",
    "data = pd.read_csv(path_root + \"/datas/47.csv\",dtype='str')\n",
    "data.drop(['结算价'],axis=1, inplace=True)\n",
    "data['datetime']=data['日期']+\" \"+data['时间']\n",
    "\n",
    "data['datetime']=pd.to_datetime(data['datetime'])\n",
    "data"
   ],
   "metadata": {
    "collapsed": false,
    "pycharm": {
     "name": "#%%\n"
    }
   }
  }
 ],
 "metadata": {
  "kernelspec": {
   "display_name": "Python 3",
   "language": "python",
   "name": "python3"
  },
  "language_info": {
   "codemirror_mode": {
    "name": "ipython",
    "version": 2
   },
   "file_extension": ".py",
   "mimetype": "text/x-python",
   "name": "python",
   "nbconvert_exporter": "python",
   "pygments_lexer": "ipython2",
   "version": "2.7.6"
  }
 },
 "nbformat": 4,
 "nbformat_minor": 0
}