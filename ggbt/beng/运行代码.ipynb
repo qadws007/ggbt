{
 "cells": [
  {
   "cell_type": "code",
   "execution_count": 6,
   "metadata": {},
   "outputs": [],
   "source": [
    "#引入技术指标数据\n",
    "from __future__ import (absolute_import ,division,print_function,unicode_literals)\n",
    "import datetime #用于datetime对象操作\n",
    "import os  #用于管理路径\n",
    "import sys      #用于在argvTo[0]中找到脚本名称\n",
    "import backtrader as bt #引入backtrader框架\n",
    "import sys  # 用于在argvTo[0]中找到脚本名称\n",
    "import backtrader as bt  # 引入backtrader框架\n",
    "from backtrader.feeds import GenericCSVData  # 用于扩展DataFeed\n",
    "import backtrader.indicators as btind\n",
    "import pymssql\n",
    "from sqlalchemy import create_engine\n",
    "import pandas as pd\n",
    "import numpy as np\n",
    "\n",
    "\n"
   ]
  },
  {
   "cell_type": "code",
   "execution_count": 7,
   "outputs": [],
   "source": [
    "# #写入数据\n",
    "# engine = create_engine(\"mysql://{}:{}@{}/{}?charset=utf8\".format('root', 'root', 'localhost:3306', 'stock_datas_factor'))\n",
    "#\n",
    "# conn = engine.connect()\n",
    "# %matplotlib inline\n"
   ],
   "metadata": {
    "collapsed": false,
    "pycharm": {
     "name": "#%%\n"
    }
   }
  },
  {
   "cell_type": "code",
   "execution_count": 8,
   "metadata": {},
   "outputs": [],
   "source": [
    "def get_datas_in_date(column_name='*',start_date='2010-01-01',end_date='2021-08-01'):\n",
    "    #数据获取函数\n",
    "    engine = create_engine(\"mysql://{}:{}@{}/{}?charset=utf8\".format('root', 'root', 'localhost:3306', 'stock_datas_factor'))\n",
    "    global conn\n",
    "    conn = engine.connect()\n",
    "    sql_query = \"select {} from [{}] where date>= '{}' and  date<= '{}'\".format(column_name,start_date,end_date)\n",
    "    print(sql_query)\n",
    "    data = pd.read_sql(sql_query, engine)\n",
    "    #data2=pro.daily_basic(ts_code=code,fields=fields)\n",
    "    #data=pd.merge(data1,data2,on='trade_date')\n",
    "    data.index=pd.to_datetime(data.date)\n",
    "    data=data.sort_index()\n",
    "    #data['volume']=data.vol\n",
    "    #data['openinterest']=0\n",
    "    data['datetime']=pd.to_datetime(data.date)\n",
    "    #data=data[fields]\n",
    "    data=data.fillna(0)\n",
    "    return data"
   ]
  },
  {
   "cell_type": "code",
   "execution_count": 9,
   "outputs": [],
   "source": [
    "def get_data(code='000001',column_name='*',start_date='2010-01-01',end_date='2021-08-01'):\n",
    "    #数据获取函数\n",
    "    engine = create_engine(\"mysql://{}:{}@{}/{}?charset=utf8\".format('root', 'root', 'localhost:3306', 'stock_datas_factor'))\n",
    "    global conn\n",
    "    conn = engine.connect()\n",
    "    sql_query = \"select {} from [{}] where date>= '{}' and  date<= '{}'\".format(column_name,code,start_date,end_date)\n",
    "    print(sql_query)\n",
    "    data = pd.read_sql(sql_query, engine)\n",
    "    #data2=pro.daily_basic(ts_code=code,fields=fields)\n",
    "    #data=pd.merge(data1,data2,on='trade_date')\n",
    "    data.index=pd.to_datetime(data.date)\n",
    "    data=data.sort_index()\n",
    "    #data['volume']=data.vol\n",
    "    #data['openinterest']=0\n",
    "    data['datetime']=pd.to_datetime(data.date)\n",
    "    #data=data[fields]\n",
    "    data=data.fillna(0)\n",
    "    return data\n"
   ],
   "metadata": {
    "collapsed": false,
    "pycharm": {
     "name": "#%%\n"
    }
   }
  },
  {
   "cell_type": "code",
   "execution_count": 10,
   "outputs": [],
   "source": [
    "#conn.close()"
   ],
   "metadata": {
    "collapsed": false,
    "pycharm": {
     "name": "#%%\n"
    }
   }
  },
  {
   "cell_type": "code",
   "execution_count": 11,
   "metadata": {},
   "outputs": [],
   "source": [
    "\n",
    "#date_value_list = []\n",
    "#创建策略\n",
    "class TestStrategy(bt.Strategy):\n",
    "    params = (\n",
    "        ('maperiod1',5),\n",
    "        ('maperiod2',13),\n",
    "        ('maperiod3',26),\n",
    "        ('printlog',True),\n",
    "        ('poneplot' , False),#是否打印到同一张图\n",
    "        ('pstake' , 100) #单笔交易股票数据\n",
    "    )\n",
    "    def log(self,txt,dt=None,doprint = False):\n",
    "        dt = dt or self.datas[0].datetime.date(0)\n",
    "        #print('%s,%s' % (dt.isoformat(),txt))\n",
    "        #print(self.datas[0])\n",
    "        \"\"\"策略的日志函数\"\"\"\n",
    "        if self.params.printlog or doprint:\n",
    "            dt = dt or self.datas[0].datetime.date(0)\n",
    "            #print('%s,%s' % (dt.isoformat(),txt))\n",
    "    def __init__(self):\n",
    "        self.inds = dict()\n",
    "        \n",
    "        \n",
    "#多周期数据的调用\n",
    "#         self.ma15m = bt.talib.SMA(self.dnames.hs15m, timeperiod=self.p.period)\n",
    "#         self.ma1h = bt.talib.SMA(self.dnames.hs1h, timeperiod=self.p.period)\n",
    "#         self.ma1d = bt.talib.SMA(self.dnames.hs1d, timeperiod=self.p.period)\n",
    "\n",
    "        for i, d in enumerate(self.datas):\n",
    "            self.inds[d] = dict()\n",
    "            self.inds[d]['ma13'] = bt.indicators.SimpleMovingAverage( d.close,period = self.params.maperiod1)\n",
    "            self.inds[d]['ma26'] = bt.indicators.SimpleMovingAverage( d.close,period = self.params.maperiod2)\n",
    "            #self.inds[d]['ma3'] = bt.indicators.SimpleMovingAverage( d.close,period = self.params.maperiod3)\n",
    "     \n",
    "    \n",
    "            self.inds[d]['s1'] = bt.ind.CrossOver(d.close,self.inds[d]['ma1']) #交叉信号\n",
    "            self.inds[d]['s2'] = bt.ind.CrossOver(d.close,self.inds[d]['ma2']) #交叉信号\n",
    "            #跳过第一只股票data，第一只股票data作为主图数据\n",
    "\n",
    "            if i >= 0:\n",
    "                if self.p.poneplot:\n",
    "                    d.plotinfo.plotmaster = self.datas[0]\n",
    "    def notify_trade(self,trade):\n",
    "        if not trade.isclosed:\n",
    "            return\n",
    "        #self.log('OPERATION PROFIT,GROSS %.2F,NET %.2F' %(trade.pnl,trade.pnlcomm))\n",
    "    def prenext(self):\n",
    "        self.next()\n",
    "    def next(self):\n",
    "        #print(self.datas[].data)\n",
    "        \n",
    "    \n",
    "#获取当前持仓,决定是否继续加仓\n",
    "#         for d,self.stock_name in zip(self.datas,self.dnames):\n",
    "#             if not self.getposition(d).size:\n",
    "#                 if self.crossover[d] > 0:\n",
    "#                     self.buy(data=d)  # 买买买\n",
    "#             elif self.crossover[d] < 0:\n",
    "#                 # for name, value in vars(self.getposition(d)).items():\n",
    "#                 #     print('%s=%s' % (name, value),\"////////////////\")\n",
    "#                 # 加减仓规则，可以在next里写，也可以在sizer里写\n",
    "#                 self.log(\"现在是哪个股票：%s,现有持仓：%.2f,现在价格：%.2f,现有价值：%.2f,上次开仓价格：%.2f,当前剩余资金:%.2f\"\n",
    "#                          %(self.stock_name,self.getposition(d).size,self.getposition(d).price,\n",
    "#                            self.getposition(d).size*self.getposition(d).price,self.getposition(d).adjbase,self.broker.getcash()))\n",
    "#                 self.close(data=d)  # 卖卖卖\n",
    "\n",
    "        # 获取当天日期\n",
    "        date = self.datas[0].datetime.date(0)\n",
    "        # 获取当天value\n",
    "        value = self.broker.getvalue()\n",
    "        for i , d in enumerate(self.datas):\n",
    "            \n",
    "            dt,dn = self.datetime.date(),d._name             #获取时间及股票代码\n",
    "            #print(dt)\n",
    "            pos = self.getposition(d).size\n",
    "            #print('sig1',sig1)\n",
    "            if not pos:                                      # 不在场内，则可以买入  vol成交量， ref日前\n",
    "                if d['s2']==1: #如果金叉\n",
    "                #if sig2:\n",
    "#                     print(d.close[0])\n",
    "#                     print(d.close[1])\n",
    "#                     print(d.close)\n",
    "                    self.buy(data =d,size =self.p.pstake)    #买\n",
    "                    self.log('%s,BUY CREATE, %.2f ,%s' % (dt, d.close[0] ,d._name))\n",
    "                    #self.order = self.buy()\n",
    "            elif d['s1']==-1:              #在场内。且死叉\n",
    "                self.close(data = d)                     #卖\n",
    "                self.log('%s,SELL CREATE,%.2f,%s' % (dt, d.close[0] ,d._name))\n",
    "                #self.order = self.sell()"
   ]
  },
  {
   "cell_type": "code",
   "execution_count": 12,
   "metadata": {},
   "outputs": [],
   "source": [
    "#印花税\n",
    "class stampDutyCommissionScheme(bt.CommInfoBase):\n",
    "    params = (\n",
    "        ('stamp_duty',0.001),#印花税率\n",
    "        ('commission', 0.0002),  # 佣金率\n",
    "        ('percabs',True),\n",
    "    )\n",
    "    def _gotcommission(self,size,price,pseudoexec):\n",
    "        if size >0:#买入，不考虑印花税\n",
    "            return size*price * self.p.commission\n",
    "        elif size<0:#卖出，考虑印花税\n",
    "            return -size*price*(self.p.stamp_duty + self.p.commission)\n",
    "        else:\n",
    "            return 0"
   ]
  },
  {
   "cell_type": "code",
   "execution_count": 13,
   "metadata": {},
   "outputs": [
    {
     "data": {
      "text/plain": "0"
     },
     "execution_count": 13,
     "metadata": {},
     "output_type": "execute_result"
    }
   ],
   "source": [
    "from datetime import datetime\n",
    "import akshare as ak\n",
    "import baostock as bs\n",
    "import pandas as pd\n",
    "#import datetime\n",
    "import backtrader.feeds as btfeeds\n",
    "#获取股票池数据\n",
    "cerebro = bt.Cerebro()\n",
    "#添加策略\n",
    "cerebro.addstrategy(TestStrategy)"
   ]
  },
  {
   "cell_type": "code",
   "execution_count": 14,
   "outputs": [
    {
     "ename": "FileNotFoundError",
     "evalue": "[WinError 3] 系统找不到指定的路径。: 'D:\\\\e\\\\pypj\\\\ggbt\\\\beng\\\\datas\\\\hs300d'",
     "output_type": "error",
     "traceback": [
      "\u001B[1;31m---------------------------------------------------------------------------\u001B[0m",
      "\u001B[1;31mFileNotFoundError\u001B[0m                         Traceback (most recent call last)",
      "\u001B[1;32m<ipython-input-14-2b2b0652c126>\u001B[0m in \u001B[0;36m<module>\u001B[1;34m\u001B[0m\n\u001B[0;32m      3\u001B[0m \u001B[1;31m# 获取根目录\u001B[0m\u001B[1;33m\u001B[0m\u001B[1;33m\u001B[0m\u001B[1;33m\u001B[0m\u001B[0m\n\u001B[0;32m      4\u001B[0m \u001B[0mpath_root\u001B[0m \u001B[1;33m=\u001B[0m \u001B[0mos\u001B[0m\u001B[1;33m.\u001B[0m\u001B[0mgetcwd\u001B[0m\u001B[1;33m(\u001B[0m\u001B[1;33m)\u001B[0m\u001B[1;33m\u001B[0m\u001B[1;33m\u001B[0m\u001B[0m\n\u001B[1;32m----> 5\u001B[1;33m \u001B[0mfilename\u001B[0m \u001B[1;33m=\u001B[0m \u001B[0mos\u001B[0m\u001B[1;33m.\u001B[0m\u001B[0mlistdir\u001B[0m\u001B[1;33m(\u001B[0m\u001B[0mpath_root\u001B[0m\u001B[1;33m+\u001B[0m\u001B[1;34m\"\\datas\\hs300d\"\u001B[0m\u001B[1;33m)\u001B[0m\u001B[1;33m\u001B[0m\u001B[1;33m\u001B[0m\u001B[0m\n\u001B[0m\u001B[0;32m      6\u001B[0m \u001B[0mmaxstocknum\u001B[0m \u001B[1;33m=\u001B[0m \u001B[1;33m-\u001B[0m\u001B[1;36m1\u001B[0m  \u001B[1;31m# 股票池最大股票数目\u001B[0m\u001B[1;33m\u001B[0m\u001B[1;33m\u001B[0m\u001B[0m\n\u001B[0;32m      7\u001B[0m \u001B[0mfilename\u001B[0m\u001B[1;33m=\u001B[0m\u001B[0mfilename\u001B[0m\u001B[1;33m[\u001B[0m\u001B[1;36m0\u001B[0m\u001B[1;33m:\u001B[0m\u001B[0mmaxstocknum\u001B[0m\u001B[1;33m]\u001B[0m\u001B[1;33m\u001B[0m\u001B[1;33m\u001B[0m\u001B[0m\n",
      "\u001B[1;31mFileNotFoundError\u001B[0m: [WinError 3] 系统找不到指定的路径。: 'D:\\\\e\\\\pypj\\\\ggbt\\\\beng\\\\datas\\\\hs300d'"
     ]
    }
   ],
   "source": [
    "#获取股票池数据\n",
    "\n",
    "# 获取根目录\n",
    "path_root = os.getcwd()\n",
    "filename = os.listdir(path_root+\"\\datas\\hs300d\")\n",
    "maxstocknum = -1  # 股票池最大股票数目\n",
    "filename=filename[0:maxstocknum]\n",
    "\n",
    "for i,fname in enumerate(filename):\n",
    "    df = pd.read_csv(path_root + \"\\datas\\hs300d/\"+fname,\n",
    "                     skiprows=[0, 1],  encoding=\"gbk\",skipfooter =1,parse_dates=[0],\n",
    "                     names=['date', 'open', 'high', 'low', 'close', 'volume ', 'amount'],\n",
    "                     )\n",
    "    #dtype={'volume':np.float64},\n",
    "    try:\n",
    "        if len(df)<22:\n",
    "            continue\n",
    "        else:\n",
    "            # 转换某些股票含时区，再选取时间区间，然后再判断行高。\n",
    "            df['date']=df['date'].dt.tz_localize(None)\n",
    "            # if df.iloc[0:22,1].sum==None:\n",
    "            #     df.iloc[0]=df.loc[df['open']!=None].ilco[0]\n",
    "            #     print(\"此条开头全是空\")\n",
    "            try:\n",
    "                #df.date = pd.to_datetime(df.date)\n",
    "                data = btfeeds.PandasData(\n",
    "                    dataname=df,\n",
    "                    fromdate=datetime(2020, 1, 1),\n",
    "                    todate=datetime(2021, 12, 31),\n",
    "                    datetime=0,\n",
    "                    open=1,\n",
    "                    high=2,\n",
    "                    low=3,\n",
    "                    close=4,\n",
    "                    volume=5,\n",
    "                    openinterest=-1,\n",
    "                )\n",
    "                cerebro.adddata(data,name = fname)\n",
    "                if i==300:\n",
    "                    print(\"注入了\",i,\"个数据\")\n",
    "            except:\n",
    "                continue\n",
    "    except:\n",
    "        continue"
   ],
   "metadata": {
    "collapsed": false,
    "pycharm": {
     "name": "#%%\n"
    }
   }
  },
  {
   "cell_type": "code",
   "execution_count": null,
   "metadata": {},
   "outputs": [],
   "source": [
    "#设置启动资金\n",
    "cerebro.broker.setcash((i+1)*10000)\n",
    "#设置交易单位大小\n",
    "#cerebro.addsizer(bt.sizers.FixedSize,stake = 100)\n",
    "cerebro.addsizer(bt.sizers.AllInSizerInt,percents=1/(i+2))\n",
    "#设置佣金为千分之一\n",
    "comminfo = stampDutyCommissionScheme(stamp_duty=0.001,commission=0.0002)\n",
    "cerebro.broker.addcommissioninfo(comminfo)\n",
    "#不显示曲线\n",
    "for d in cerebro.datas:\n",
    "    d.plotinfo.plot = False\n",
    "#打印开始信息\n",
    "print('Starting Portfolio Value: %.2f 万' % (cerebro.broker.getvalue()/10000))"
   ]
  },
  {
   "cell_type": "code",
   "execution_count": null,
   "outputs": [],
   "source": [
    "#查看策略效果\n",
    "#cerebro.run(maxcpus=10)\n",
    "cerebro.addanalyzer(bt.analyzers.PyFolio, _name='pyfolio')\n",
    "#back  = cerebro.run(maxcpus=12,exactbars=True,stdstats=False)\n",
    "\n",
    "back  = cerebro.run()\n",
    "print(back)\n",
    "import warnings\n",
    "warnings.filterwarnings('ignore')\n",
    "strat = back[0]\n",
    "portfolio_stats = strat.analyzers.getbyname('pyfolio')\n",
    "returns, positions, transactions, gross_lev = portfolio_stats.get_pf_items()\n",
    "returns.index = returns.index.tz_convert(None)\n",
    "\n",
    "import quantstats\n",
    "quantstats.reports.html(returns, output='stats.html', title='Stock Sentiment')\n",
    "\n",
    "import webbrowser\n",
    "f = webbrowser.open('stats.html')\n",
    "#打印最后结果\n",
    "print('Final Profolio Value : %.2f' %cerebro.broker.getvalue())\n",
    "#不显示曲线\n",
    "# for d in cerebro.datas:\n",
    "#     d.plotinfo.plot = False"
   ],
   "metadata": {
    "collapsed": false,
    "pycharm": {
     "name": "#%%\n"
    }
   }
  }
 ],
 "metadata": {
  "kernelspec": {
   "display_name": "Python 3",
   "language": "python",
   "name": "python3"
  },
  "language_info": {
   "codemirror_mode": {
    "name": "ipython",
    "version": 3
   },
   "file_extension": ".py",
   "mimetype": "text/x-python",
   "name": "python",
   "nbconvert_exporter": "python",
   "pygments_lexer": "ipython3",
   "version": "3.8.5"
  }
 },
 "nbformat": 4,
 "nbformat_minor": 4
}