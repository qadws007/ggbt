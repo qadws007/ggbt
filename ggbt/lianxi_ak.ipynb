{
 "cells": [
  {
   "cell_type": "code",
   "execution_count": 1,
   "outputs": [],
   "source": [
    "import akshare as ak"
   ],
   "metadata": {
    "collapsed": false,
    "pycharm": {
     "name": "#%%\n"
    }
   }
  },
  {
   "cell_type": "code",
   "execution_count": 3,
   "outputs": [
    {
     "data": {
      "text/plain": "       品种代码  品种名称        纳入日期\n0    601799  星宇股份  2021-06-15\n1    603806   福斯特  2021-06-15\n2    600132  重庆啤酒  2021-06-15\n3    000800  一汽解放  2021-06-15\n4    600521  华海药业  2021-06-15\n..      ...   ...         ...\n295  000157  中联重科  2005-04-08\n296  000069  华侨城A  2005-04-08\n297  000063  中兴通讯  2005-04-08\n298  000001  深发展A  2005-04-08\n299  000002   万科A  2005-04-08\n\n[300 rows x 3 columns]",
      "text/html": "<div>\n<style scoped>\n    .dataframe tbody tr th:only-of-type {\n        vertical-align: middle;\n    }\n\n    .dataframe tbody tr th {\n        vertical-align: top;\n    }\n\n    .dataframe thead th {\n        text-align: right;\n    }\n</style>\n<table border=\"1\" class=\"dataframe\">\n  <thead>\n    <tr style=\"text-align: right;\">\n      <th></th>\n      <th>品种代码</th>\n      <th>品种名称</th>\n      <th>纳入日期</th>\n    </tr>\n  </thead>\n  <tbody>\n    <tr>\n      <th>0</th>\n      <td>601799</td>\n      <td>星宇股份</td>\n      <td>2021-06-15</td>\n    </tr>\n    <tr>\n      <th>1</th>\n      <td>603806</td>\n      <td>福斯特</td>\n      <td>2021-06-15</td>\n    </tr>\n    <tr>\n      <th>2</th>\n      <td>600132</td>\n      <td>重庆啤酒</td>\n      <td>2021-06-15</td>\n    </tr>\n    <tr>\n      <th>3</th>\n      <td>000800</td>\n      <td>一汽解放</td>\n      <td>2021-06-15</td>\n    </tr>\n    <tr>\n      <th>4</th>\n      <td>600521</td>\n      <td>华海药业</td>\n      <td>2021-06-15</td>\n    </tr>\n    <tr>\n      <th>...</th>\n      <td>...</td>\n      <td>...</td>\n      <td>...</td>\n    </tr>\n    <tr>\n      <th>295</th>\n      <td>000157</td>\n      <td>中联重科</td>\n      <td>2005-04-08</td>\n    </tr>\n    <tr>\n      <th>296</th>\n      <td>000069</td>\n      <td>华侨城A</td>\n      <td>2005-04-08</td>\n    </tr>\n    <tr>\n      <th>297</th>\n      <td>000063</td>\n      <td>中兴通讯</td>\n      <td>2005-04-08</td>\n    </tr>\n    <tr>\n      <th>298</th>\n      <td>000001</td>\n      <td>深发展A</td>\n      <td>2005-04-08</td>\n    </tr>\n    <tr>\n      <th>299</th>\n      <td>000002</td>\n      <td>万科A</td>\n      <td>2005-04-08</td>\n    </tr>\n  </tbody>\n</table>\n<p>300 rows × 3 columns</p>\n</div>"
     },
     "execution_count": 3,
     "metadata": {},
     "output_type": "execute_result"
    }
   ],
   "source": [
    "#沪深300成分股\n",
    "index_stock_cons_df = ak.index_stock_cons(index=\"000300\")\n",
    "index_stock_cons_df\n"
   ],
   "metadata": {
    "collapsed": false,
    "pycharm": {
     "name": "#%%\n"
    }
   }
  },
  {
   "cell_type": "code",
   "execution_count": 4,
   "outputs": [
    {
     "name": "stdout",
     "output_type": "stream",
     "text": [
      "    index_code display_name publish_date\n",
      "0       000001         上证指数   1991-07-15\n",
      "1       000002         A股指数   1992-02-21\n",
      "2       000003         B股指数   1992-02-21\n",
      "3       000004         工业指数   1993-05-03\n",
      "4       000005         商业指数   1993-05-03\n",
      "..         ...          ...          ...\n",
      "693     399994   中证信息安全主题指数   2015-03-12\n",
      "694     399995     中证基建工程指数   2015-03-12\n",
      "695     399996     中证智能家居指数   2014-09-17\n",
      "696     399997       中证白酒指数   2015-01-21\n",
      "697     399998       中证煤炭指数   2015-02-13\n",
      "\n",
      "[698 rows x 3 columns]\n"
     ]
    }
   ],
   "source": [
    "index_stock_info_df = ak.index_stock_info()\n",
    "print(index_stock_info_df)"
   ],
   "metadata": {
    "collapsed": false,
    "pycharm": {
     "name": "#%%\n"
    }
   }
  },
  {
   "cell_type": "code",
   "execution_count": null,
   "outputs": [],
   "source": [
    "#期权日\n",
    "option_sina_sse_daily_df = ak.option_sina_sse_daily(code=\"10003462\")\n",
    "print(option_sina_sse_daily_df)\n",
    "\n",
    "\n",
    "\n"
   ],
   "metadata": {
    "collapsed": false,
    "pycharm": {
     "name": "#%%\n"
    }
   }
  },
  {
   "cell_type": "code",
   "execution_count": 7,
   "outputs": [
    {
     "name": "stdout",
     "output_type": "stream",
     "text": [
      "            date      time   price average_price volume\n",
      "0     2021-07-28  09:26:00  0.0704        0.0704      0\n",
      "1     2021-07-28  09:27:00  0.0704        0.0704      0\n",
      "2     2021-07-28  09:28:00  0.0704        0.0704      0\n",
      "3     2021-07-28  09:29:00  0.0704        0.0704      0\n",
      "4     2021-07-28  09:30:00  0.0757        0.0733   4028\n",
      "...          ...       ...     ...           ...    ...\n",
      "1220  2021-08-03  14:56:00  0.0894        0.0831    206\n",
      "1221  2021-08-03  14:57:00  0.0893        0.0831      0\n",
      "1222  2021-08-03  14:58:00  0.0893        0.0831      0\n",
      "1223  2021-08-03  14:59:00  0.0893        0.0831      0\n",
      "1224  2021-08-03  15:00:00  0.0895        0.0831    464\n",
      "\n",
      "[1225 rows x 5 columns]\n"
     ]
    }
   ],
   "source": [
    "#期权分钟\n",
    "option_sina_finance_minute_df = ak.option_sina_finance_minute(code=\"10003462\")\n",
    "print(option_sina_finance_minute_df)"
   ],
   "metadata": {
    "collapsed": false,
    "pycharm": {
     "name": "#%%\n"
    }
   }
  },
  {
   "cell_type": "code",
   "execution_count": 7,
   "outputs": [
    {
     "data": {
      "text/plain": "            净值日期    单位净值    累计净值   日增长率  申购状态  赎回状态\n0     2021-11-05  4.9206  1.9963  -0.53  场内买入  场内卖出\n1     2021-11-04  4.9470  2.0061   0.98  场内买入  场内卖出\n2     2021-11-03  4.8992  1.9884  -0.37  场内买入  场内卖出\n3     2021-11-02  4.9175  1.9952  -1.04  场内买入  场内卖出\n4     2021-11-01  4.9694  2.0144  -0.36  场内买入  场内卖出\n...          ...     ...     ...    ...   ...   ...\n2306  2012-05-25  2.5740  0.9550  -0.54  场内买入  场内卖出\n2307  2012-05-21  2.5880  0.9600   0.54  场内买入  场内卖出\n2308  2012-05-18  2.5740  0.9550  -2.39  场内买入  场内卖出\n2309  2012-05-11  2.6370  0.9780  -2.86  场内买入  场内卖出\n2310  2012-05-04  1.0070  1.0070         场内买入  场内卖出\n\n[2311 rows x 6 columns]",
      "text/html": "<div>\n<style scoped>\n    .dataframe tbody tr th:only-of-type {\n        vertical-align: middle;\n    }\n\n    .dataframe tbody tr th {\n        vertical-align: top;\n    }\n\n    .dataframe thead th {\n        text-align: right;\n    }\n</style>\n<table border=\"1\" class=\"dataframe\">\n  <thead>\n    <tr style=\"text-align: right;\">\n      <th></th>\n      <th>净值日期</th>\n      <th>单位净值</th>\n      <th>累计净值</th>\n      <th>日增长率</th>\n      <th>申购状态</th>\n      <th>赎回状态</th>\n    </tr>\n  </thead>\n  <tbody>\n    <tr>\n      <th>0</th>\n      <td>2021-11-05</td>\n      <td>4.9206</td>\n      <td>1.9963</td>\n      <td>-0.53</td>\n      <td>场内买入</td>\n      <td>场内卖出</td>\n    </tr>\n    <tr>\n      <th>1</th>\n      <td>2021-11-04</td>\n      <td>4.9470</td>\n      <td>2.0061</td>\n      <td>0.98</td>\n      <td>场内买入</td>\n      <td>场内卖出</td>\n    </tr>\n    <tr>\n      <th>2</th>\n      <td>2021-11-03</td>\n      <td>4.8992</td>\n      <td>1.9884</td>\n      <td>-0.37</td>\n      <td>场内买入</td>\n      <td>场内卖出</td>\n    </tr>\n    <tr>\n      <th>3</th>\n      <td>2021-11-02</td>\n      <td>4.9175</td>\n      <td>1.9952</td>\n      <td>-1.04</td>\n      <td>场内买入</td>\n      <td>场内卖出</td>\n    </tr>\n    <tr>\n      <th>4</th>\n      <td>2021-11-01</td>\n      <td>4.9694</td>\n      <td>2.0144</td>\n      <td>-0.36</td>\n      <td>场内买入</td>\n      <td>场内卖出</td>\n    </tr>\n    <tr>\n      <th>...</th>\n      <td>...</td>\n      <td>...</td>\n      <td>...</td>\n      <td>...</td>\n      <td>...</td>\n      <td>...</td>\n    </tr>\n    <tr>\n      <th>2306</th>\n      <td>2012-05-25</td>\n      <td>2.5740</td>\n      <td>0.9550</td>\n      <td>-0.54</td>\n      <td>场内买入</td>\n      <td>场内卖出</td>\n    </tr>\n    <tr>\n      <th>2307</th>\n      <td>2012-05-21</td>\n      <td>2.5880</td>\n      <td>0.9600</td>\n      <td>0.54</td>\n      <td>场内买入</td>\n      <td>场内卖出</td>\n    </tr>\n    <tr>\n      <th>2308</th>\n      <td>2012-05-18</td>\n      <td>2.5740</td>\n      <td>0.9550</td>\n      <td>-2.39</td>\n      <td>场内买入</td>\n      <td>场内卖出</td>\n    </tr>\n    <tr>\n      <th>2309</th>\n      <td>2012-05-11</td>\n      <td>2.6370</td>\n      <td>0.9780</td>\n      <td>-2.86</td>\n      <td>场内买入</td>\n      <td>场内卖出</td>\n    </tr>\n    <tr>\n      <th>2310</th>\n      <td>2012-05-04</td>\n      <td>1.0070</td>\n      <td>1.0070</td>\n      <td></td>\n      <td>场内买入</td>\n      <td>场内卖出</td>\n    </tr>\n  </tbody>\n</table>\n<p>2311 rows × 6 columns</p>\n</div>"
     },
     "execution_count": 7,
     "metadata": {},
     "output_type": "execute_result"
    }
   ],
   "source": [
    "\n",
    "#fund_em_etf_fund_info_df = ak.fund_em_etf_fund_info(fund=\"510050\")\n",
    "fund_em_etf_fund_info_df = ak.fund_em_etf_fund_info(fund=\"510300\")\n",
    "fund_em_etf_fund_info_df"
   ],
   "metadata": {
    "collapsed": false,
    "pycharm": {
     "name": "#%%\n"
    }
   }
  },
  {
   "cell_type": "code",
   "execution_count": 4,
   "outputs": [
    {
     "data": {
      "text/plain": "        code  name   close     zfp      zd    volume        amount     zf  \\\n0     688776   N国光  134.30  161.08   82.86   88672.0  1.228531e+09  54.88   \n1     300187  永清环保    8.80   20.05    1.47  233145.0  2.046244e+08   6.55   \n2     300526  中潜股份   26.75   20.01    4.46  168717.0  4.237652e+08  20.01   \n3     300929  华骐环保   32.76   20.00    5.46   44612.0  1.419189e+08  15.38   \n4     300815   玉禾田   39.54   20.00    6.59  118936.0  4.481162e+08  20.15   \n...      ...   ...     ...     ...     ...       ...           ...    ...   \n4623  300006  莱美药业    9.18  -13.23   -1.40  384917.0  3.705925e+08  19.09   \n4624  301031  中熔电气  145.47  -13.66  -23.02   15099.0  2.324865e+08  14.84   \n4625  688219  会通股份   15.52  -15.24   -2.79   54259.0  8.694111e+07  10.76   \n4626  688006  杭可科技   96.86  -17.16  -20.06   88379.0  8.533214e+08  10.06   \n4627  688169  石头科技  920.13  -17.84 -199.86   11652.0  1.134192e+09  16.27   \n\n         high     low     open  pre_close    lb    hsl   syl_d    sjl  \n0      156.00  127.77   150.00      51.44  0.00  55.65   65.53   6.76  \n1        8.80    8.32     8.32       7.33  4.83   3.62   62.39   3.81  \n2       26.75   22.29    22.39      22.29  4.92   8.26  -75.92  16.20  \n3       32.76   28.56    28.60      27.30  4.66  23.55   43.06   3.48  \n4       39.54   32.90    32.95      32.95  9.90  10.20   17.39   4.03  \n...       ...     ...      ...        ...   ...    ...     ...    ...  \n4623    10.69    8.67    10.60      10.58  2.88   4.74  149.62   4.26  \n4624   168.00  143.00   165.12     168.49  3.22   9.11  133.79  14.20  \n4625    17.41   15.44    17.33      18.31  3.85  11.99   89.69   4.23  \n4626   105.30   93.54   105.20     116.92  7.03   7.90  154.15  14.81  \n4627  1100.99  918.80  1100.99    1119.99  3.57   2.58   47.06   7.98  \n\n[4628 rows x 16 columns]",
      "text/html": "<div>\n<style scoped>\n    .dataframe tbody tr th:only-of-type {\n        vertical-align: middle;\n    }\n\n    .dataframe tbody tr th {\n        vertical-align: top;\n    }\n\n    .dataframe thead th {\n        text-align: right;\n    }\n</style>\n<table border=\"1\" class=\"dataframe\">\n  <thead>\n    <tr style=\"text-align: right;\">\n      <th></th>\n      <th>code</th>\n      <th>name</th>\n      <th>close</th>\n      <th>zfp</th>\n      <th>zd</th>\n      <th>volume</th>\n      <th>amount</th>\n      <th>zf</th>\n      <th>high</th>\n      <th>low</th>\n      <th>open</th>\n      <th>pre_close</th>\n      <th>lb</th>\n      <th>hsl</th>\n      <th>syl_d</th>\n      <th>sjl</th>\n    </tr>\n  </thead>\n  <tbody>\n    <tr>\n      <th>0</th>\n      <td>688776</td>\n      <td>N国光</td>\n      <td>134.30</td>\n      <td>161.08</td>\n      <td>82.86</td>\n      <td>88672.0</td>\n      <td>1.228531e+09</td>\n      <td>54.88</td>\n      <td>156.00</td>\n      <td>127.77</td>\n      <td>150.00</td>\n      <td>51.44</td>\n      <td>0.00</td>\n      <td>55.65</td>\n      <td>65.53</td>\n      <td>6.76</td>\n    </tr>\n    <tr>\n      <th>1</th>\n      <td>300187</td>\n      <td>永清环保</td>\n      <td>8.80</td>\n      <td>20.05</td>\n      <td>1.47</td>\n      <td>233145.0</td>\n      <td>2.046244e+08</td>\n      <td>6.55</td>\n      <td>8.80</td>\n      <td>8.32</td>\n      <td>8.32</td>\n      <td>7.33</td>\n      <td>4.83</td>\n      <td>3.62</td>\n      <td>62.39</td>\n      <td>3.81</td>\n    </tr>\n    <tr>\n      <th>2</th>\n      <td>300526</td>\n      <td>中潜股份</td>\n      <td>26.75</td>\n      <td>20.01</td>\n      <td>4.46</td>\n      <td>168717.0</td>\n      <td>4.237652e+08</td>\n      <td>20.01</td>\n      <td>26.75</td>\n      <td>22.29</td>\n      <td>22.39</td>\n      <td>22.29</td>\n      <td>4.92</td>\n      <td>8.26</td>\n      <td>-75.92</td>\n      <td>16.20</td>\n    </tr>\n    <tr>\n      <th>3</th>\n      <td>300929</td>\n      <td>华骐环保</td>\n      <td>32.76</td>\n      <td>20.00</td>\n      <td>5.46</td>\n      <td>44612.0</td>\n      <td>1.419189e+08</td>\n      <td>15.38</td>\n      <td>32.76</td>\n      <td>28.56</td>\n      <td>28.60</td>\n      <td>27.30</td>\n      <td>4.66</td>\n      <td>23.55</td>\n      <td>43.06</td>\n      <td>3.48</td>\n    </tr>\n    <tr>\n      <th>4</th>\n      <td>300815</td>\n      <td>玉禾田</td>\n      <td>39.54</td>\n      <td>20.00</td>\n      <td>6.59</td>\n      <td>118936.0</td>\n      <td>4.481162e+08</td>\n      <td>20.15</td>\n      <td>39.54</td>\n      <td>32.90</td>\n      <td>32.95</td>\n      <td>32.95</td>\n      <td>9.90</td>\n      <td>10.20</td>\n      <td>17.39</td>\n      <td>4.03</td>\n    </tr>\n    <tr>\n      <th>...</th>\n      <td>...</td>\n      <td>...</td>\n      <td>...</td>\n      <td>...</td>\n      <td>...</td>\n      <td>...</td>\n      <td>...</td>\n      <td>...</td>\n      <td>...</td>\n      <td>...</td>\n      <td>...</td>\n      <td>...</td>\n      <td>...</td>\n      <td>...</td>\n      <td>...</td>\n      <td>...</td>\n    </tr>\n    <tr>\n      <th>4623</th>\n      <td>300006</td>\n      <td>莱美药业</td>\n      <td>9.18</td>\n      <td>-13.23</td>\n      <td>-1.40</td>\n      <td>384917.0</td>\n      <td>3.705925e+08</td>\n      <td>19.09</td>\n      <td>10.69</td>\n      <td>8.67</td>\n      <td>10.60</td>\n      <td>10.58</td>\n      <td>2.88</td>\n      <td>4.74</td>\n      <td>149.62</td>\n      <td>4.26</td>\n    </tr>\n    <tr>\n      <th>4624</th>\n      <td>301031</td>\n      <td>中熔电气</td>\n      <td>145.47</td>\n      <td>-13.66</td>\n      <td>-23.02</td>\n      <td>15099.0</td>\n      <td>2.324865e+08</td>\n      <td>14.84</td>\n      <td>168.00</td>\n      <td>143.00</td>\n      <td>165.12</td>\n      <td>168.49</td>\n      <td>3.22</td>\n      <td>9.11</td>\n      <td>133.79</td>\n      <td>14.20</td>\n    </tr>\n    <tr>\n      <th>4625</th>\n      <td>688219</td>\n      <td>会通股份</td>\n      <td>15.52</td>\n      <td>-15.24</td>\n      <td>-2.79</td>\n      <td>54259.0</td>\n      <td>8.694111e+07</td>\n      <td>10.76</td>\n      <td>17.41</td>\n      <td>15.44</td>\n      <td>17.33</td>\n      <td>18.31</td>\n      <td>3.85</td>\n      <td>11.99</td>\n      <td>89.69</td>\n      <td>4.23</td>\n    </tr>\n    <tr>\n      <th>4626</th>\n      <td>688006</td>\n      <td>杭可科技</td>\n      <td>96.86</td>\n      <td>-17.16</td>\n      <td>-20.06</td>\n      <td>88379.0</td>\n      <td>8.533214e+08</td>\n      <td>10.06</td>\n      <td>105.30</td>\n      <td>93.54</td>\n      <td>105.20</td>\n      <td>116.92</td>\n      <td>7.03</td>\n      <td>7.90</td>\n      <td>154.15</td>\n      <td>14.81</td>\n    </tr>\n    <tr>\n      <th>4627</th>\n      <td>688169</td>\n      <td>石头科技</td>\n      <td>920.13</td>\n      <td>-17.84</td>\n      <td>-199.86</td>\n      <td>11652.0</td>\n      <td>1.134192e+09</td>\n      <td>16.27</td>\n      <td>1100.99</td>\n      <td>918.80</td>\n      <td>1100.99</td>\n      <td>1119.99</td>\n      <td>3.57</td>\n      <td>2.58</td>\n      <td>47.06</td>\n      <td>7.98</td>\n    </tr>\n  </tbody>\n</table>\n<p>4628 rows × 16 columns</p>\n</div>"
     },
     "execution_count": 4,
     "metadata": {},
     "output_type": "execute_result"
    }
   ],
   "source": [
    "df = ak.stock_zh_a_spot_em()\n",
    "df.drop('序号', axis=1, inplace=True)\n",
    "df.fillna(0, inplace=True)\n",
    "df.columns = ['code', 'name', 'close', 'zfp', 'zd', 'volume', 'amount', 'zf', 'high', 'low', 'open', 'pre_close',\n",
    "              'lb', 'hsl', 'syl_d', 'sjl']\n",
    "df"
   ],
   "metadata": {
    "collapsed": false,
    "pycharm": {
     "name": "#%%\n"
    }
   }
  },
  {
   "cell_type": "code",
   "execution_count": 2,
   "outputs": [
    {
     "data": {
      "text/plain": "        date   open   high    low  close       volume  outstanding_share  \\\n0 2021-09-10  18.89  20.77  18.84  20.57  231494528.0       1.940575e+10   \n\n   turnover  \n0  0.011929  ",
      "text/html": "<div>\n<style scoped>\n    .dataframe tbody tr th:only-of-type {\n        vertical-align: middle;\n    }\n\n    .dataframe tbody tr th {\n        vertical-align: top;\n    }\n\n    .dataframe thead th {\n        text-align: right;\n    }\n</style>\n<table border=\"1\" class=\"dataframe\">\n  <thead>\n    <tr style=\"text-align: right;\">\n      <th></th>\n      <th>date</th>\n      <th>open</th>\n      <th>high</th>\n      <th>low</th>\n      <th>close</th>\n      <th>volume</th>\n      <th>outstanding_share</th>\n      <th>turnover</th>\n    </tr>\n  </thead>\n  <tbody>\n    <tr>\n      <th>0</th>\n      <td>2021-09-10</td>\n      <td>18.89</td>\n      <td>20.77</td>\n      <td>18.84</td>\n      <td>20.57</td>\n      <td>231494528.0</td>\n      <td>1.940575e+10</td>\n      <td>0.011929</td>\n    </tr>\n  </tbody>\n</table>\n</div>"
     },
     "execution_count": 2,
     "metadata": {},
     "output_type": "execute_result"
    }
   ],
   "source": [
    "dd = ak.stock_zh_a_daily(symbol='sz000001',start_date = '20210910',end_date = '20210911', adjust=\"qfq\")\n",
    "dd"
   ],
   "metadata": {
    "collapsed": false,
    "pycharm": {
     "name": "#%%\n"
    }
   }
  },
  {
   "cell_type": "code",
   "execution_count": null,
   "outputs": [],
   "source": [],
   "metadata": {
    "collapsed": false,
    "pycharm": {
     "name": "#%%\n"
    }
   }
  }
 ],
 "metadata": {
  "kernelspec": {
   "display_name": "Python 3",
   "language": "python",
   "name": "python3"
  },
  "language_info": {
   "codemirror_mode": {
    "name": "ipython",
    "version": 2
   },
   "file_extension": ".py",
   "mimetype": "text/x-python",
   "name": "python",
   "nbconvert_exporter": "python",
   "pygments_lexer": "ipython2",
   "version": "2.7.6"
  }
 },
 "nbformat": 4,
 "nbformat_minor": 0
}