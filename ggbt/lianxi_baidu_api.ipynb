{
 "cells": [
  {
   "cell_type": "code",
   "execution_count": 38,
   "outputs": [],
   "source": [
    "# from aip import AipSpeech\n",
    "#\n",
    "# \"\"\" 你的 APPID AK SK \"\"\"\n",
    "# APP_ID = '24648606'\n",
    "# API_KEY = 'OjUvBrRR1ITvluI9V1h1N5gz'\n",
    "# SECRET_KEY = 'xK7bLHsoSA6QYxGXnHU1Kn13y4Z5oYPV'\n",
    "#\n",
    "# client = AipSpeech(APP_ID, API_KEY, SECRET_KEY)"
   ],
   "metadata": {
    "collapsed": false,
    "pycharm": {
     "name": "#%%\n"
    }
   }
  },
  {
   "cell_type": "code",
   "execution_count": 39,
   "outputs": [],
   "source": [
    "# result  = client.synthesis('你好百度', 'zh', 1, {\n",
    "#     'vol': 5,\n",
    "# })\n",
    "#\n",
    "# # 识别正确返回语音二进制 错误则返回dict 参照下面错误码\n",
    "# if not isinstance(result, dict):\n",
    "#     with open('audio.mp3', 'wb') as f:\n",
    "#         f.write(result)\n",
    "#\n",
    "# result"
   ],
   "metadata": {
    "collapsed": false,
    "pycharm": {
     "name": "#%%\n"
    }
   }
  },
  {
   "cell_type": "code",
   "execution_count": 40,
   "outputs": [
    {
     "data": {
      "text/plain": "1"
     },
     "execution_count": 40,
     "metadata": {},
     "output_type": "execute_result"
    }
   ],
   "source": [
    "import winsound\n",
    "import win32com.client\n",
    "\n",
    "speke_out=win32com.client.Dispatch('SAPI.SPVOICE')\n",
    "\n",
    "speke_out.Speak('蝈蝈')\n",
    "speke_out.Speak('蝈蝈')"
   ],
   "metadata": {
    "collapsed": false,
    "pycharm": {
     "name": "#%%\n"
    }
   }
  },
  {
   "cell_type": "code",
   "execution_count": 2,
   "outputs": [
    {
     "name": "stdout",
     "output_type": "stream",
     "text": [
      "语音速率：200\n",
      "语音音量：1.0\n",
      "语音声音详细信息：[<pyttsx3.voice.Voice object at 0x00000288600C5DC0>, <pyttsx3.voice.Voice object at 0x00000288600D6B20>]\n",
      "语音声音：HKEY_LOCAL_MACHINE\\SOFTWARE\\Microsoft\\Speech\\Voices\\Tokens\\TTS_MS_ZH-CN_HUIHUI_11.0\n"
     ]
    }
   ],
   "source": [
    "import pyttsx3\n",
    "\n",
    "# 创建对象\n",
    "engine = pyttsx3.init()\n",
    "# 获取当前语音速率\n",
    "rate = engine.getProperty('rate')\n",
    "print(f'语音速率：{rate}')\n",
    "# 设置新的语音速率\n",
    "engine.setProperty('rate', 500)\n",
    "# 获取当前语音音量\n",
    "volume = engine.getProperty('volume')\n",
    "print(f'语音音量：{volume}')\n",
    "# 设置新的语音音量，音量最小为 0，最大为 1\n",
    "engine.setProperty('volume', 1.0)\n",
    "# 获取当前语音声音的详细信息\n",
    "voices = engine.getProperty('voices')\n",
    "print(f'语音声音详细信息：{voices}')\n",
    "# 设置当前语音声音为女性，当前声音不能读中文\n",
    "engine.setProperty('voice', voices[1].id)\n",
    "# 设置当前语音声音为男性，当前声音可以读中文\n",
    "engine.setProperty('voice', voices[0].id)\n",
    "# 获取当前语音声音\n",
    "voice = engine.getProperty('voice')\n",
    "print(f'语音声音：{voice}')\n",
    "# 语音文本\n",
    "path = 'test.txt'  #或者直接导入一个文本文件\n",
    "words = \"\"\"金樽清酒斗十千，玉盘珍羞直万钱。\n",
    "        欲渡黄河冰塞川，将登太行雪满山。\n",
    "        闲来垂钓碧溪上，忽复乘舟梦日边。\n",
    "        行路难，行路难，多歧路，今安在？\n",
    "        长风破浪会有时，直挂云帆济沧海。\"\"\"\n",
    "# 将语音文本说出来\n",
    "engine.say(words)\n",
    "engine.runAndWait()\n",
    "engine.stop()\n"
   ],
   "metadata": {
    "collapsed": false,
    "pycharm": {
     "name": "#%%\n"
    }
   }
  }
 ],
 "metadata": {
  "kernelspec": {
   "display_name": "Python 3",
   "language": "python",
   "name": "python3"
  },
  "language_info": {
   "codemirror_mode": {
    "name": "ipython",
    "version": 2
   },
   "file_extension": ".py",
   "mimetype": "text/x-python",
   "name": "python",
   "nbconvert_exporter": "python",
   "pygments_lexer": "ipython2",
   "version": "2.7.6"
  }
 },
 "nbformat": 4,
 "nbformat_minor": 0
}